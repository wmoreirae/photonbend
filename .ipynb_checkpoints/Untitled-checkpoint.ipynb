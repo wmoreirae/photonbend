{
 "cells": [
  {
   "cell_type": "code",
   "execution_count": null,
   "id": "23957dfb",
   "metadata": {},
   "outputs": [],
   "source": [
    "import numpy as np\n",
    "from PIL import Image\n",
    "import math\n",
    "from numpy import pi, sin, cos, tan\n",
    "import numba"
   ]
  },
  {
   "cell_type": "code",
   "execution_count": null,
   "id": "b26efbb5",
   "metadata": {},
   "outputs": [],
   "source": [
    "def pit(x, y):\n",
    "    return np.sqrt(x**2 + y**2)"
   ]
  },
  {
   "cell_type": "code",
   "execution_count": null,
   "id": "c64120cb",
   "metadata": {},
   "outputs": [],
   "source": [
    "im = Image.open('fisheye-lens-city.jpg')"
   ]
  },
  {
   "cell_type": "code",
   "execution_count": null,
   "id": "109a5375",
   "metadata": {
    "scrolled": false
   },
   "outputs": [],
   "source": [
    "im"
   ]
  },
  {
   "cell_type": "code",
   "execution_count": null,
   "id": "152b0d24",
   "metadata": {},
   "outputs": [],
   "source": [
    "dimensions = im.size"
   ]
  },
  {
   "cell_type": "markdown",
   "id": "6e1168a5",
   "metadata": {},
   "source": [
    "# Create an array of the image and a destiny array for the adjusted image"
   ]
  },
  {
   "cell_type": "code",
   "execution_count": null,
   "id": "f56dae8c",
   "metadata": {},
   "outputs": [],
   "source": [
    "origin_arr = np.asarray(im)\n",
    "origin_arr.dtype"
   ]
  },
  {
   "cell_type": "code",
   "execution_count": null,
   "id": "118daaa9",
   "metadata": {},
   "outputs": [],
   "source": [
    "destiny_arr = np.zeros((1800, 2800, 3), 'uint8') "
   ]
  },
  {
   "cell_type": "markdown",
   "id": "a4aa2238",
   "metadata": {},
   "source": [
    "# Calculate distances for the lens on both images"
   ]
  },
  {
   "cell_type": "code",
   "execution_count": null,
   "id": "539cb808",
   "metadata": {},
   "outputs": [],
   "source": [
    "def torad(x):\n",
    "    return x/180 * pi"
   ]
  },
  {
   "cell_type": "code",
   "execution_count": null,
   "id": "0f8d1e06",
   "metadata": {},
   "outputs": [],
   "source": [
    "lens_angle = torad(150)"
   ]
  },
  {
   "cell_type": "code",
   "execution_count": null,
   "id": "6cf7317c",
   "metadata": {},
   "outputs": [],
   "source": [
    "# Use one half of the angle and image dimensions to calculate the focal distances in pixels\n",
    "half_dim = [x/2 for x in dimensions]\n",
    "half_angle = lens_angle /2\n",
    "\n",
    "f_origin = pit(*half_dim) / (2 * sin(half_angle /2))\n",
    "f_dest = pit(*half_dim) / tan(half_angle)\n",
    "\n",
    "f_origin, f_dest"
   ]
  },
  {
   "cell_type": "code",
   "execution_count": null,
   "id": "33bbe4c7",
   "metadata": {},
   "outputs": [],
   "source": [
    "destiny_arr = np.zeros((1800, 2800, 3), 'uint8') \n",
    "for r in range(1800):\n",
    "    for c in range(2800):\n",
    "        row_distance = abs(r-900)\n",
    "        colum_distance = abs(c-1400)\n",
    "        distance_dest = pit(row_distance, colum_distance)\n",
    "        angle_obj = math.atan(distance_dest / f_dest)\n",
    "        \n",
    "        origin_distance = 2 * sin(angle_obj/2) * f_origin\n",
    "        \n",
    "        prev_source_row = abs(900 - r)\n",
    "        prev_source_column = abs(1400 - c)\n",
    "        prev_source_distance = pit(prev_source_row, prev_source_column)\n",
    "        correction_factor = origin_distance / (prev_source_distance+1e-26)\n",
    "        #correction_factor = prev_source_distance / (origin_distance+10e-20)\n",
    "        \n",
    "        \n",
    "        source_row = math.trunc(900-((900-r)*correction_factor))\n",
    "        source_column = math.trunc(1400-((1400-c)*correction_factor))\n",
    "        if (0 <= source_row <= 1799) and (0 <= source_column <= 2799):\n",
    "            destiny_arr[r, c,:] = im.getpixel((source_column, source_row))"
   ]
  },
  {
   "cell_type": "markdown",
   "id": "a5e8d672",
   "metadata": {},
   "source": [
    "A transformação é uma conversão de tangente para seno\n",
    "É possivel calcular as dimensões finais da imagem com base em uma definição de angulo de abertura, calcular a distancia relativa da camera para o hemisfério de image e gerar uma nova imagem com base na projeção da tangente.\n",
    "\n",
    "Fornecemos um angulo horizontal ng_h, e com base na proporção da imagem, calculamos o angulo horizontal ng_v.\n"
   ]
  },
  {
   "cell_type": "code",
   "execution_count": null,
   "id": "813da0e1",
   "metadata": {},
   "outputs": [],
   "source": [
    "ni = Image.fromarray(destiny_arr)"
   ]
  },
  {
   "cell_type": "code",
   "execution_count": null,
   "id": "d308dfad",
   "metadata": {},
   "outputs": [],
   "source": [
    "ni"
   ]
  },
  {
   "cell_type": "code",
   "execution_count": null,
   "id": "f73bfb7c",
   "metadata": {},
   "outputs": [],
   "source": []
  }
 ],
 "metadata": {
  "kernelspec": {
   "display_name": "Python 3 (ipykernel)",
   "language": "python",
   "name": "python3"
  },
  "language_info": {
   "codemirror_mode": {
    "name": "ipython",
    "version": 3
   },
   "file_extension": ".py",
   "mimetype": "text/x-python",
   "name": "python",
   "nbconvert_exporter": "python",
   "pygments_lexer": "ipython3",
   "version": "3.8.10"
  }
 },
 "nbformat": 4,
 "nbformat_minor": 5
}
