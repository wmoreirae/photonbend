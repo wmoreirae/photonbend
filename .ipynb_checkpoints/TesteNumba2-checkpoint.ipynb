{
 "cells": [
  {
   "cell_type": "code",
   "execution_count": null,
   "id": "23957dfb",
   "metadata": {},
   "outputs": [],
   "source": [
    "import numpy as np\n",
    "from PIL import Image\n",
    "import math\n",
    "from numpy import pi, sin, cos, tan\n",
    "import numba\n",
    "from numba import njit, prange"
   ]
  },
  {
   "cell_type": "code",
   "execution_count": null,
   "id": "6be2936e",
   "metadata": {},
   "outputs": [],
   "source": [
    "@njit\n",
    "def degrees_to_rad(degrees):\n",
    "    return degrees/180 * np.pi\n",
    "\n",
    "@njit\n",
    "def rad_to_degrees(rad):\n",
    "    return rad/ np.pi * 180"
   ]
  },
  {
   "cell_type": "code",
   "execution_count": null,
   "id": "7f469bcb",
   "metadata": {},
   "outputs": [],
   "source": [
    "@njit\n",
    "def vector_magnitude(vector):\n",
    "    return np.sqrt(vector.real ** 2 + vector.imag ** 2)"
   ]
  },
  {
   "cell_type": "code",
   "execution_count": null,
   "id": "47de9986",
   "metadata": {},
   "outputs": [],
   "source": [
    "@njit\n",
    "def dpi_to_dpmm(dpis: int):\n",
    "    mm_in_a_inch = 25.4\n",
    "    return dpis / mm_in_a_inch"
   ]
  },
  {
   "cell_type": "code",
   "execution_count": null,
   "id": "201299f1",
   "metadata": {},
   "outputs": [],
   "source": [
    "@njit\n",
    "def angle_from_coordinates(x, y):\n",
    "    magnitude = vector_magnitude(x, y)\n",
    "    vector = complex(x, y) / magnitude\n",
    "    angle = np.log(vector).imag\n",
    "    return angle"
   ]
  },
  {
   "cell_type": "code",
   "execution_count": null,
   "id": "5961d135",
   "metadata": {},
   "outputs": [],
   "source": [
    "@njit\n",
    "def vector_from_coordinates(x, y):\n",
    "    vector = complex(x, y)\n",
    "    return vector"
   ]
  },
  {
   "cell_type": "code",
   "execution_count": null,
   "id": "36d7cbc3",
   "metadata": {},
   "outputs": [],
   "source": [
    "@njit\n",
    "def unit_vector(vector):\n",
    "    magnitude = vector_magnitude(vector)\n",
    "    u_vector = vector / magnitude\n",
    "    return u_vector"
   ]
  },
  {
   "cell_type": "code",
   "execution_count": null,
   "id": "a039ab88",
   "metadata": {},
   "outputs": [],
   "source": [
    "@njit\n",
    "def vector_to_normalized_projection_magnitude(vector, focal_distance, dpis):\n",
    "    \"\"\"Calculates the projection of a pixel.\n",
    "    \n",
    "    With the projection of a pixel, you can use an inverse_mapping_function to get the lens angle of it\n",
    "    The projection is 'normalized' using the focal distance as the factor, therefore, 'normalized' may be a \n",
    "    misnomer in case of a  any mapping function that produces values bigger than 1.\n",
    "    \"\"\"\n",
    "    dpmm = dpi_to_dpmm(dpis)\n",
    "    opposite_side = vector_magnitude(vector)\n",
    "    adjacent_side = focal_distance * dpmm\n",
    "    \n",
    "    normalized_projection_magnitude = np.absolute(opposite_side / adjacent_side)\n",
    "    \n",
    "    return normalized_projection_magnitude"
   ]
  },
  {
   "cell_type": "markdown",
   "id": "06124268",
   "metadata": {},
   "source": [
    "### Mapping functions and inverses"
   ]
  },
  {
   "cell_type": "code",
   "execution_count": null,
   "id": "610bc200",
   "metadata": {},
   "outputs": [],
   "source": [
    "@njit\n",
    "def rectilinear_inverse(normalized_projection_magnitude):\n",
    "    angle = np.arctan(normalized_projection_magnitude)\n",
    "    return angle\n",
    "\n",
    "@njit\n",
    "def rectilinear(teta):\n",
    "    return np.tan(teta)"
   ]
  },
  {
   "cell_type": "code",
   "execution_count": null,
   "id": "9a0a796d",
   "metadata": {},
   "outputs": [],
   "source": [
    "@njit\n",
    "def stereografic_inverse(normalized_projection_magnitude):\n",
    "    tan_Td2 = normalized_projection_magnitude / 2\n",
    "    angle_d2 = np.arctan(tan_Td2)\n",
    "    angle = 2 * angle_d2\n",
    "    return angle\n",
    "\n",
    "@njit\n",
    "def stereografic(teta):\n",
    "    Td2 = teta / 2\n",
    "    pre_projection = np.tan(Td2)\n",
    "    projection = 2 * pre_projection\n",
    "    return projection"
   ]
  },
  {
   "cell_type": "code",
   "execution_count": null,
   "id": "4f03988c",
   "metadata": {},
   "outputs": [],
   "source": [
    "@njit\n",
    "def equidistant_inverse(normalized_projectin_magnitude):\n",
    "    return normalized_projectin_magnitude\n",
    "\n",
    "@njit\n",
    "def equidistant(teta):\n",
    "    return teta"
   ]
  },
  {
   "cell_type": "code",
   "execution_count": null,
   "id": "29a9dc2f",
   "metadata": {},
   "outputs": [],
   "source": [
    "@njit\n",
    "def equisolid_inverse(normalized_projection_magnitude):\n",
    "    sin_Td2 = normalized_projection_magnitude / 2\n",
    "    angle_d2 = np.arcsin(sin_Td2)\n",
    "    angle = 2 * angle_d2\n",
    "    return angle\n",
    "\n",
    "@njit\n",
    "def equisolid(teta):\n",
    "    teta_d2 = teta / 2\n",
    "    pre_projection = np.sin(teta_d2)\n",
    "    projection = 2 * pre_projection\n",
    "    return projection"
   ]
  },
  {
   "cell_type": "code",
   "execution_count": null,
   "id": "bdf078cb",
   "metadata": {},
   "outputs": [],
   "source": [
    "@njit\n",
    "def orthographic_inverse(normalized_projection_magnitude):\n",
    "    angle = np.arcsin(normalized_projection_magnitude)\n",
    "    return angle\n",
    "\n",
    "@njit\n",
    "def orthographic(teta):\n",
    "    angle = np.sin(teta)\n",
    "    return angle"
   ]
  },
  {
   "cell_type": "markdown",
   "id": "bb1f2469",
   "metadata": {},
   "source": [
    "### Helper functions"
   ]
  },
  {
   "cell_type": "code",
   "execution_count": null,
   "id": "75dd51b5",
   "metadata": {},
   "outputs": [],
   "source": [
    "# Preciso ajustar essa função para ela levar em consideração a diferença da distancia focal\n",
    "@njit\n",
    "def center_pixel_angle_resolution(origin_function, destiny_function):\n",
    "    origin_pixel = origin_function(degrees_to_rad(1))\n",
    "    destiny_pixel = destiny_function(degrees_to_rad(1))\n",
    "    dpi_factor = origin_pixel / destiny_pixel\n",
    "    dpi_factor = np.round(dpi_factor)\n",
    "    return dpi_factor"
   ]
  },
  {
   "cell_type": "code",
   "execution_count": null,
   "id": "8f2c35d4",
   "metadata": {},
   "outputs": [],
   "source": [
    "@njit\n",
    "def c_round(complex_number):\n",
    "    return int(np.round(complex_number.real)), int(np.round(complex_number.imag))"
   ]
  },
  {
   "cell_type": "code",
   "execution_count": null,
   "id": "0d17f0ff",
   "metadata": {},
   "outputs": [],
   "source": [
    "@njit\n",
    "def compute_lens_angle(vector, f_distance, dpis, inverse_function):\n",
    "    normalized_magnitude = vector_to_normalized_projection_magnitude(vector, f_distance, dpis)\n",
    "    angle = inverse_function(normalized_magnitude)\n",
    "    return angle * 2"
   ]
  },
  {
   "cell_type": "code",
   "execution_count": null,
   "id": "36a017cc",
   "metadata": {},
   "outputs": [],
   "source": [
    "@njit\n",
    "def compute_dpis(vector, angle, f_distance, function):\n",
    "    half_angle = angle / 2\n",
    "    quasi_magnitude = function(half_angle) * f_distance\n",
    "    v_magnitude = vector_magnitude(vector)\n",
    "    dpmm = v_magnitude / quasi_magnitude\n",
    "    dpis = dpmm * 25.4\n",
    "    return dpis"
   ]
  },
  {
   "cell_type": "code",
   "execution_count": null,
   "id": "ffa5442c",
   "metadata": {},
   "outputs": [],
   "source": [
    "compute_dpis(complex(1440, 900), degrees_to_rad(160), 50, stereografic)"
   ]
  },
  {
   "cell_type": "code",
   "execution_count": null,
   "id": "cc2bcdb0",
   "metadata": {},
   "outputs": [],
   "source": [
    "rad_to_degrees(compute_lens_angle(complex(1440, 900), 50, 671, equisolid_inverse))"
   ]
  },
  {
   "cell_type": "markdown",
   "id": "5e51950a",
   "metadata": {},
   "source": [
    "### Main function"
   ]
  },
  {
   "cell_type": "code",
   "execution_count": null,
   "id": "1296d35d",
   "metadata": {},
   "outputs": [],
   "source": [
    "@njit\n",
    "def process_image(o_image_arr, lens_angle, function_o, ifunction_o, function_d, ifunction_d, fullframe):\n",
    "    \n",
    "    # Some defaults\n",
    "    f_distance = 50\n",
    "    \n",
    "    \n",
    "    # calculate the correct destiny size\n",
    "    y_size_o, x_size_o = o_image_arr.shape[:2]\n",
    "    \n",
    "    # define the origin center as complex number to make it easier to do the algebra later \n",
    "    center_o = complex(x_size_o, y_size_o) / 2 - complex(0.5, 0.5)\n",
    "    \n",
    "    # compute the dpis\n",
    "    dpis = compute_dpis(center_o, lens_angle, f_distance, function_o)\n",
    "    dpmm = dpi_to_dpmm(dpis)\n",
    "    \n",
    "    # Calculate the max angle of the lens\n",
    "    if fullframe:\n",
    "        max_vector_o = center_o\n",
    "    else:\n",
    "        max_vector_o = complex(center_o.real, 0)\n",
    "        \n",
    "    \n",
    "    # Compute the focal distance of the destiny lens so it can have the same angle\n",
    "    f_factor = vector_magnitude(max_vector_o) / (function_d(lens_angle / 2) * f_distance * dpmm)\n",
    "    f_distance_d = f_distance * f_factor\n",
    "    \n",
    "    \n",
    "    \"\"\"\n",
    "    # TODO Crop the black borders\n",
    "    # TODO Fix the image size to retain maximum information\n",
    "    \n",
    "    y_size_d = y_size_o * dpi_factor\n",
    "    x_size_d = x_size_o * dpi_factor\n",
    "    y_size_d = int(np.round(y_size_d))\n",
    "    x_size_d = int(np.round(x_size_d))\n",
    "    \"\"\"\n",
    "    \n",
    "    # Create the destiny array\n",
    "    \n",
    "    x_size_d = x_size_o\n",
    "    y_size_d = y_size_o\n",
    "    center_d = complex(x_size_d, y_size_d) / 2 - complex(0.5, 0.5)\n",
    "    \n",
    "    dest_arr = np.zeros((y_size_d, x_size_d, 3), 'uint8')\n",
    "    \n",
    "        \n",
    "    \"\"\"\n",
    "    Firstly, the program reads the position from the destination, calculates the teta angle of the destination\n",
    "    and then it translates it to a position on the origin, reads such position and writes it on the position\n",
    "    from the destination\n",
    "    \"\"\"\n",
    "    for row in prange(y_size_d):\n",
    "        for column in prange(x_size_d):\n",
    "            \n",
    "            position_d = complex(column, row)\n",
    "            position_vector = position_d - center_d\n",
    "            unit_position_vector = unit_vector(position_vector)\n",
    "            projection_magnitude = vector_to_normalized_projection_magnitude(position_vector, f_distance_d, dpis)\n",
    "            \n",
    "            teta = ifunction_d(projection_magnitude)\n",
    "            \n",
    "            projection_magnitude_o = function_o(teta) * f_distance * dpmm\n",
    "            position_o = center_o + (unit_position_vector * projection_magnitude_o)\n",
    "            \n",
    "            column_o, row_o = c_round(position_o)\n",
    "            \n",
    "            if 0 <= column_o < x_size_o and 0 <= row_o < y_size_o:  \n",
    "                dest_arr[row, column, :] = o_image_arr[row_o, column_o, :]\n",
    "            \n",
    "    return dest_arr"
   ]
  },
  {
   "cell_type": "markdown",
   "id": "53d2f718",
   "metadata": {},
   "source": [
    "### Image Processing"
   ]
  },
  {
   "cell_type": "code",
   "execution_count": null,
   "id": "c64120cb",
   "metadata": {},
   "outputs": [],
   "source": [
    "im = Image.open('fisheye-lens-city.jpg')"
   ]
  },
  {
   "cell_type": "code",
   "execution_count": null,
   "id": "8d6750c9",
   "metadata": {},
   "outputs": [],
   "source": [
    "temp = np.asarray(im)"
   ]
  },
  {
   "cell_type": "code",
   "execution_count": null,
   "id": "9895fc8f",
   "metadata": {},
   "outputs": [],
   "source": [
    "%timeit pi = process_image(temp, degrees_to_rad(160), equisolid, equisolid_inverse, rectilinear, rectilinear_inverse, True)"
   ]
  },
  {
   "cell_type": "code",
   "execution_count": null,
   "id": "91fb4c93",
   "metadata": {},
   "outputs": [],
   "source": [
    "Image.fromarray(pi)"
   ]
  },
  {
   "cell_type": "code",
   "execution_count": null,
   "id": "1f4e933a",
   "metadata": {},
   "outputs": [],
   "source": [
    "%timeit rpi = process_image(temp, degrees_to_rad(160), equisolid, equisolid_inverse, stereografic, stereografic_inverse, True)"
   ]
  },
  {
   "cell_type": "code",
   "execution_count": null,
   "id": "4c8d18e6",
   "metadata": {},
   "outputs": [],
   "source": [
    "Image.fromarray(rpi)"
   ]
  },
  {
   "cell_type": "markdown",
   "id": "6e1168a5",
   "metadata": {},
   "source": [
    "# Create an array of the image and a destiny array for the adjusted image"
   ]
  },
  {
   "cell_type": "markdown",
   "id": "a4aa2238",
   "metadata": {},
   "source": [
    "# Calculate distances for the lens on both images"
   ]
  },
  {
   "cell_type": "markdown",
   "id": "604a01c6",
   "metadata": {},
   "source": [
    "@njit(parallel=True)\n",
    "def ray_adjustment(original_array, destiny_array, f_origin, f_dest):\n",
    "    \n",
    "    dimensions = destiny_array.shape\n",
    "    row_center = (dimensions[0]-1) / 2\n",
    "    col_center = (dimensions[1]-1) / 2\n",
    "    \n",
    "    my_dest = np.zeros(destiny_array.shape, 'uint8')\n",
    "    \n",
    "    original_dimensions = original_array.shape\n",
    "    original_row_center = (original_dimensions[0]-1) / 2\n",
    "    original_col_center = (original_dimensions[1]-1) / 2\n",
    "    \n",
    "    for r in prange(dimensions[0]):\n",
    "        for c in range(dimensions[1]):\n",
    "            row_distance = row_center - r  # rows start positive\n",
    "            colum_distance = c - col_center  # columns start negative\n",
    "            distance_dest = pit(row_distance, colum_distance)\n",
    "            dest_lens_angle = np.arctan(distance_dest / f_dest)\n",
    "            \n",
    "            original_distance = 2 * np.sin(dest_lens_angle / 2) * f_origin\n",
    "            \n",
    "            pixel_angle_obj = (colum_distance + 1j * row_distance) / distance_dest\n",
    "            \n",
    "            source_row = original_row_center - ((pixel_angle_obj * original_distance).imag)\n",
    "            source_column = (pixel_angle_obj * original_distance).real + original_col_center\n",
    "            \n",
    "            if (0 <= source_row <= original_dimensions[0]-1) and (0 <= source_column <= original_dimensions[1]-1):\n",
    "                my_dest[r, c, :] = original_array[int(np.round(source_row)), int(np.round(source_column)), :]\n",
    "    \n",
    "    return my_dest"
   ]
  },
  {
   "cell_type": "markdown",
   "id": "5c1bd37d",
   "metadata": {},
   "source": [
    "def adjust_image(image, lens_angle):\n",
    "    original_dimensions = image.size\n",
    "    \n",
    "    \n",
    "    # Use one half of the angle and image dimensions to calculate the focal distances in pixels\n",
    "    half_dim = [x / 2 for x in original_dimensions]\n",
    "    half_angle = lens_angle / 2\n",
    "\n",
    "    f_origin = pit(*half_dim) / (2 * np.sin(half_angle / 2))\n",
    "    f_dest = pit(*half_dim) / np.tan(half_angle)\n",
    "    print(f_origin, f_dest)\n",
    "    \n",
    "    # Calculate a correction factor to not lose quality on the destiny image\n",
    "    origin_degree_pixels = 2* np.sin(torad(1/2)) * f_origin\n",
    "    destiny_degree_pixels = np.tan(torad(1)) * f_dest\n",
    "    size_factor = origin_degree_pixels / destiny_degree_pixels\n",
    "    \n",
    "    \n",
    "    # adjust destiny image size and focus distance\n",
    "    f_dest = f_dest * size_factor\n",
    "    h_dim, v_dim = np.multiply(original_dimensions, size_factor)\n",
    "    \n",
    "    origin_arr = np.asarray(im)\n",
    "    destiny_arr = np.zeros((np.int64(v_dim), np.int64(h_dim), 3), 'uint8')  \n",
    "    \n",
    "    dest = ray_adjustment(origin_arr, destiny_arr, f_origin, f_dest)\n",
    "    Image.fromarray(dest)\n",
    "    ni = Image.fromarray(dest)\n",
    "    \n",
    "    return ni"
   ]
  },
  {
   "cell_type": "markdown",
   "id": "a5e8d672",
   "metadata": {},
   "source": [
    "A transformação é uma conversão de tangente para seno\n",
    "É possivel calcular as dimensões finais da imagem com base em uma definição de angulo de abertura, calcular a distancia relativa da camera para o hemisfério de image e gerar uma nova imagem com base na projeção da tangente.\n",
    "\n",
    "Fornecemos um angulo horizontal ng_h, e com base na proporção da imagem, calculamos o angulo horizontal ng_v.\n"
   ]
  },
  {
   "cell_type": "code",
   "execution_count": null,
   "id": "2f40c62e",
   "metadata": {},
   "outputs": [],
   "source": [
    "ni.save('save_test.png')"
   ]
  },
  {
   "cell_type": "code",
   "execution_count": null,
   "id": "e294efb2",
   "metadata": {},
   "outputs": [],
   "source": []
  }
 ],
 "metadata": {
  "kernelspec": {
   "display_name": "Python 3 (ipykernel)",
   "language": "python",
   "name": "python3"
  },
  "language_info": {
   "codemirror_mode": {
    "name": "ipython",
    "version": 3
   },
   "file_extension": ".py",
   "mimetype": "text/x-python",
   "name": "python",
   "nbconvert_exporter": "python",
   "pygments_lexer": "ipython3",
   "version": "3.8.10"
  }
 },
 "nbformat": 4,
 "nbformat_minor": 5
}
