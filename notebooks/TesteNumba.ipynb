{
 "cells": [
  {
   "cell_type": "code",
   "execution_count": null,
   "id": "23957dfb",
   "metadata": {},
   "outputs": [],
   "source": [
    "import numpy as np\n",
    "from PIL import Image\n",
    "import math\n",
    "import numba\n",
    "from numba import njit, prange"
   ]
  },
  {
   "cell_type": "code",
   "execution_count": null,
   "id": "539cb808",
   "metadata": {},
   "outputs": [],
   "source": [
    "@numba.jit(nopython=True)\n",
    "def torad(degrees):\n",
    "    return degrees/180 * np.pi"
   ]
  },
  {
   "cell_type": "code",
   "execution_count": null,
   "id": "b26efbb5",
   "metadata": {},
   "outputs": [],
   "source": [
    "@numba.jit(nopython=True)\n",
    "def pit(x, y):\n",
    "    return np.sqrt(x**2 + y**2)"
   ]
  },
  {
   "cell_type": "code",
   "execution_count": null,
   "id": "c64120cb",
   "metadata": {},
   "outputs": [],
   "source": [
    "im = Image.open('fisheye-lens-city.jpg')"
   ]
  },
  {
   "cell_type": "code",
   "execution_count": null,
   "id": "aaea1a11",
   "metadata": {},
   "outputs": [],
   "source": [
    "im = Image.open('Tour_Eiffel_-_Wide_Angle.jpg')"
   ]
  },
  {
   "cell_type": "code",
   "execution_count": null,
   "id": "109a5375",
   "metadata": {
    "scrolled": false
   },
   "outputs": [],
   "source": [
    "im"
   ]
  },
  {
   "cell_type": "code",
   "execution_count": null,
   "id": "a0874dc7",
   "metadata": {},
   "outputs": [],
   "source": [
    "im.size"
   ]
  },
  {
   "cell_type": "markdown",
   "id": "6e1168a5",
   "metadata": {},
   "source": [
    "# Create an array of the image and a destiny array for the adjusted image"
   ]
  },
  {
   "cell_type": "markdown",
   "id": "a4aa2238",
   "metadata": {},
   "source": [
    "# Calculate distances for the lens on both images"
   ]
  },
  {
   "cell_type": "code",
   "execution_count": null,
   "id": "dc6882b9",
   "metadata": {},
   "outputs": [],
   "source": [
    "@njit(parallel=True)\n",
    "def ray_adjustment(original_array, destiny_array, f_origin, f_dest):\n",
    "    \n",
    "    dimensions = destiny_array.shape\n",
    "    row_center = (dimensions[0]-1) / 2\n",
    "    col_center = (dimensions[1]-1) / 2\n",
    "    \n",
    "    my_dest = destiny_array #np.zeros(destiny_array.shape, 'uint8')\n",
    "    \n",
    "    original_dimensions = original_array.shape\n",
    "    original_row_center = (original_dimensions[0]-1) / 2\n",
    "    original_col_center = (original_dimensions[1]-1) / 2\n",
    "    \n",
    "    for r in prange(dimensions[0]):\n",
    "        for c in range(dimensions[1]):\n",
    "            row_distance = row_center - r  # rows start positive\n",
    "            colum_distance = c - col_center  # columns start negative\n",
    "            distance_dest = pit(row_distance, colum_distance)\n",
    "            dest_lens_angle = np.arctan(distance_dest / f_dest)\n",
    "            \n",
    "            original_distance = 2 * np.sin(dest_lens_angle / 2) * f_origin\n",
    "            \n",
    "            source_row = original_row_center - ((row_distance / distance_dest * original_distance))\n",
    "            source_column = (colum_distance / distance_dest * original_distance) + original_col_center\n",
    "            \n",
    "            \n",
    "            if (0 <= source_row <= original_dimensions[0]-1) and (0 <= source_column <= original_dimensions[1]-1):\n",
    "                my_dest[r, c, :] = original_array[int(np.round(source_row)), int(np.round(source_column)), :]\n",
    "    \n",
    "    return my_dest"
   ]
  },
  {
   "cell_type": "code",
   "execution_count": null,
   "id": "c746e7a6",
   "metadata": {},
   "outputs": [],
   "source": [
    "def adjust_image_cropped(image, lens_angle, sample_factor=1):\n",
    "    original_dimensions = image.size\n",
    "    \n",
    "    \n",
    "    # Use one half of the angle and image dimensions to calculate the focal distances in pixels\n",
    "    half_dim = [x / 2 for x in original_dimensions]\n",
    "    half_angle = lens_angle / 2\n",
    "\n",
    "    f_origin = pit(*half_dim) / (2 * np.sin(half_angle / 2))\n",
    "    f_dest = pit(*half_dim) / np.tan(half_angle)\n",
    "    \n",
    "    # Calculate a correction factor to not lose quality on the destiny image\n",
    "    origin_degree_pixels = 2 * np.sin(torad(1/2)) * f_origin\n",
    "    destiny_degree_pixels = np.tan(torad(1)) * f_dest\n",
    "    size_factor = origin_degree_pixels / destiny_degree_pixels * sample_factor\n",
    "    \n",
    "    # max angle on x=0 and when y=0\n",
    "    max_angle_x = (2 * np.arcsin(half_dim[0]/ 2 / f_origin))\n",
    "    max_angle_y = (2 * np.arcsin(half_dim[1]/ 2 / f_origin))\n",
    "    \n",
    "    max_distance_x = (np.tan(max_angle_x)) * f_dest\n",
    "    max_distance_y = (np.tan(max_angle_y)) * f_dest\n",
    "    cropped_dimensions = [max_distance_x * 2, max_distance_y * 2]\n",
    "        \n",
    "    # adjust destiny image size and focus distance\n",
    "    f_dest = f_dest * size_factor\n",
    "    h_dim, v_dim = np.multiply(cropped_dimensions, size_factor)\n",
    "    \n",
    "    origin_arr = np.asarray(image)\n",
    "    destiny_arr = np.zeros((np.int64(v_dim), np.int64(h_dim), 3), 'uint8')  \n",
    "    \n",
    "    dest = ray_adjustment(origin_arr, destiny_arr, f_origin, f_dest)\n",
    "    Image.fromarray(dest)\n",
    "    ni = Image.fromarray(dest)\n",
    "\n",
    "    if sample_factor != 1:\n",
    "        ni = ni.resize([x//sample_factor for x in ni.size], resample=Image.BICUBIC)\n",
    "    \n",
    "    return ni"
   ]
  },
  {
   "cell_type": "code",
   "execution_count": null,
   "id": "772cae1f",
   "metadata": {},
   "outputs": [],
   "source": [
    "def adjust_image(image, lens_angle):\n",
    "    original_dimensions = image.size\n",
    "    \n",
    "    \n",
    "    # Use one half of the angle and image dimensions to calculate the focal distances in pixels\n",
    "    half_dim = [x / 2 for x in original_dimensions]\n",
    "    half_angle = lens_angle / 2\n",
    "\n",
    "    f_origin = pit(*half_dim) / (2 * np.sin(half_angle / 2))\n",
    "    f_dest = pit(*half_dim) / np.tan(half_angle)\n",
    "    \n",
    "    # Calculate a correction factor to not lose quality on the destiny image\n",
    "    origin_degree_pixels = 2 * np.sin(torad(1/2)) * f_origin\n",
    "    destiny_degree_pixels = np.tan(torad(1)) * f_dest\n",
    "    size_factor = origin_degree_pixels / destiny_degree_pixels\n",
    "    \n",
    "    \n",
    "    # adjust destiny image size and focus distance\n",
    "    f_dest = f_dest * size_factor\n",
    "    h_dim, v_dim = np.multiply(original_dimensions, size_factor)\n",
    "    \n",
    "    origin_arr = np.asarray(image)\n",
    "    destiny_arr = np.zeros((np.int64(v_dim), np.int64(h_dim), 3), 'uint8')  \n",
    "    \n",
    "    dest = ray_adjustment(origin_arr, destiny_arr, f_origin, f_dest)\n",
    "    Image.fromarray(dest)\n",
    "    ni = Image.fromarray(dest)\n",
    "    \n",
    "    return ni"
   ]
  },
  {
   "cell_type": "markdown",
   "id": "a5e8d672",
   "metadata": {},
   "source": [
    "A transformação é uma conversão de tangente para seno\n",
    "É possivel calcular as dimensões finais da imagem com base em uma definição de angulo de abertura, calcular a distancia relativa da camera para o hemisfério de image e gerar uma nova imagem com base na projeção da tangente.\n",
    "\n",
    "Fornecemos um angulo horizontal ng_h, e com base na proporção da imagem, calculamos o angulo horizontal ng_v.\n"
   ]
  },
  {
   "cell_type": "code",
   "execution_count": null,
   "id": "d308dfad",
   "metadata": {},
   "outputs": [],
   "source": [
    "ni = adjust_image(im, torad(165))"
   ]
  },
  {
   "cell_type": "code",
   "execution_count": null,
   "id": "a131f7ec",
   "metadata": {},
   "outputs": [],
   "source": [
    "nic = adjust_image_cropped(im, torad(165), 4)"
   ]
  },
  {
   "cell_type": "code",
   "execution_count": null,
   "id": "29a15c5c",
   "metadata": {},
   "outputs": [],
   "source": [
    "nic.size"
   ]
  },
  {
   "cell_type": "code",
   "execution_count": null,
   "id": "5dedaf5c",
   "metadata": {},
   "outputs": [],
   "source": [
    "nic"
   ]
  },
  {
   "cell_type": "code",
   "execution_count": null,
   "id": "314910d5",
   "metadata": {},
   "outputs": [],
   "source": [
    "nic.save('save_test_cropped.jpg')"
   ]
  },
  {
   "cell_type": "code",
   "execution_count": null,
   "id": "dea6c131",
   "metadata": {},
   "outputs": [],
   "source": [
    "ni.size"
   ]
  },
  {
   "cell_type": "code",
   "execution_count": null,
   "id": "07b3d925",
   "metadata": {},
   "outputs": [],
   "source": [
    "ni = ni.resize([x//3 for x in ni.size], resample=Image.BICUBIC)"
   ]
  },
  {
   "cell_type": "code",
   "execution_count": null,
   "id": "2f40c62e",
   "metadata": {},
   "outputs": [],
   "source": [
    "ni.save('save_test_normal.jpg')"
   ]
  },
  {
   "cell_type": "markdown",
   "id": "8e8e8a81",
   "metadata": {},
   "source": [
    "# Circular Image 180"
   ]
  },
  {
   "cell_type": "code",
   "execution_count": null,
   "id": "48f4738c",
   "metadata": {},
   "outputs": [],
   "source": [
    "imr = Image.open('fisheye_180.jpg')\n",
    "imr"
   ]
  },
  {
   "cell_type": "code",
   "execution_count": null,
   "id": "ee758f2f",
   "metadata": {},
   "outputs": [],
   "source": [
    "imr_arr = np.asarray(imr)\n",
    "\n",
    "factor = np.sqrt(2)\n",
    "\n",
    "dest_y_size = int(np.round(factor * imr.size[0]/2))\n",
    "dest_x_size = dest_y_size * 4\n",
    "\n",
    "pixel_angle = np.pi * 2 / dest_x_size\n",
    "pixel_angle\n",
    "\n",
    "origin = (imr.size[0]-1) / 2\n",
    "origin_col_size = imr.size[0] / 2\n",
    "dest_center_row = (dest_y_size -1) / 2\n",
    "origin_limit_factor = 1 / (2 * np.sin(np.pi/4))\n",
    "\n",
    "@njit(parallel=True)\n",
    "def adjust_rows_first():\n",
    "    dest_arr = np.zeros((dest_y_size, dest_x_size, 3), 'uint8')\n",
    "        \n",
    "    for row in prange(dest_y_size):\n",
    "        \n",
    "        row_distance = dest_center_row - row\n",
    "        relative_row_distance = row_distance / dest_center_row\n",
    "        dest_angle_y = np.arctan(relative_row_distance)\n",
    "        origin_angle_y = -1 * (dest_angle_y - np.pi/4)\n",
    "        origin_distance_y = 2 * np.sin(origin_angle_y / 2) * origin_limit_factor * (origin_col_size-1)\n",
    "        \n",
    "        for column in prange(dest_x_size):\n",
    "\n",
    "            angle_x = (pixel_angle * column) + np.pi\n",
    "\n",
    "            angle_factor_x = np.cos(angle_x)\n",
    "            angle_factor_y = np.sin(angle_x)\n",
    "            origin_x = int(np.round(origin + angle_factor_x * origin_distance_y))\n",
    "            origin_y = int(np.round(origin - angle_factor_y * origin_distance_y))\n",
    "\n",
    "            dest_arr[row, column, :] = imr_arr[origin_y, origin_x, :]\n",
    "\n",
    "    return dest_arr\n",
    "\n",
    "imr_plane = Image.fromarray(adjust_rows_first())"
   ]
  },
  {
   "cell_type": "code",
   "execution_count": null,
   "id": "80b7b721",
   "metadata": {},
   "outputs": [],
   "source": [
    "imr_plane"
   ]
  },
  {
   "cell_type": "code",
   "execution_count": null,
   "id": "8a5a28cb",
   "metadata": {},
   "outputs": [],
   "source": [
    "imr_plane.size"
   ]
  },
  {
   "cell_type": "code",
   "execution_count": null,
   "id": "9f4d7595",
   "metadata": {},
   "outputs": [],
   "source": [
    "imr_plane.save('equirectangular.jpg')"
   ]
  },
  {
   "cell_type": "markdown",
   "id": "d763ce1a",
   "metadata": {},
   "source": [
    "# Eliptical Image 180"
   ]
  },
  {
   "cell_type": "code",
   "execution_count": null,
   "id": "fd6a566f",
   "metadata": {},
   "outputs": [],
   "source": [
    "imr_arr = np.asarray(imr)\n",
    "\n",
    "factor = np.sqrt(2)\n",
    "\n",
    "dest_y_size = int(np.round(factor * imr.size[0]/2))  #90º\n",
    "dest_x_size = dest_y_size * 4  # 360º\n",
    "\n",
    "# make horizontal size always even\n",
    "if dest_x_size % 2 != 0:\n",
    "    dest_x_size += 1\n",
    "\n",
    "full_radius = dest_x_size / 2 / np.pi\n",
    "\n",
    "origin = (imr.size[0]-1) / 2\n",
    "origin_col_size = imr.size[0] / 2\n",
    "dest_center_row = (dest_y_size) // 2\n",
    "dest_center_col = (dest_x_size) // 2\n",
    "origin_limit_factor = 1 / (2 * np.sin(np.pi/4))\n",
    "\n",
    "angle_per_row = np.pi / 2 / dest_y_size\n",
    "\n",
    "\n",
    "@njit(parallel=True)\n",
    "def adjust_elipsis():\n",
    "    \n",
    "    im_dest = np.zeros((dest_y_size, dest_x_size, 3), 'uint8')\n",
    "    \n",
    "    for row in prange(dest_y_size):\n",
    "        #print(f'row: {row}')\n",
    "        \n",
    "        row_angle = (row * angle_per_row) + (angle_per_row / 2)\n",
    "        \n",
    "        # Calculate data necessary for the columns\n",
    "        radius_destiny = np.sin(row_angle) * full_radius\n",
    "        perimeter = int(np.round(radius_destiny * np.pi * 2))\n",
    "        \n",
    "        # makes perimeter always even\n",
    "        if perimeter % 2 != 0:\n",
    "            perimeter = perimeter + 1\n",
    "            \n",
    "        half_perimeter = perimeter // 2\n",
    "        \n",
    "        origin_distance_y = 2 * np.sin(row_angle / 2) * origin_limit_factor * (origin_col_size-1)\n",
    "        \n",
    "        # determine upper and lower bound columns for the current row\n",
    "        start_col = dest_center_col - half_perimeter\n",
    "        end_col = dest_center_col + half_perimeter\n",
    "        \n",
    "        for col in prange(start_col, end_col):\n",
    "            \n",
    "            col_angle = ((col - dest_center_col)  * (np .pi / half_perimeter))\n",
    "            #print(col_angle)\n",
    "                    \n",
    "            angle_factor_x = np.cos(col_angle)\n",
    "            angle_factor_y = np.sin(col_angle)\n",
    "            origin_x = int(np.round(origin + angle_factor_x * origin_distance_y))\n",
    "            origin_y = int(np.round(origin - angle_factor_y * origin_distance_y))\n",
    "            \n",
    "            im_dest[row, col, :] = imr_arr[origin_y, origin_x, :]\n",
    "            \n",
    "    return im_dest\n",
    "\n",
    "imr_elipsis = Image.fromarray(adjust_elipsis())"
   ]
  },
  {
   "cell_type": "code",
   "execution_count": null,
   "id": "ca553775",
   "metadata": {},
   "outputs": [],
   "source": [
    "imr_elipsis"
   ]
  },
  {
   "cell_type": "code",
   "execution_count": null,
   "id": "4779b0b0",
   "metadata": {},
   "outputs": [],
   "source": [
    "imr_elipsis.save('eliptical.jpg')"
   ]
  },
  {
   "cell_type": "markdown",
   "id": "768b88ae",
   "metadata": {},
   "source": [
    "# Circular Image 360"
   ]
  },
  {
   "cell_type": "code",
   "execution_count": null,
   "id": "2399694e",
   "metadata": {},
   "outputs": [],
   "source": [
    "imr360 = Image.open('lillestromfisheye.jpg')\n",
    "imr360"
   ]
  },
  {
   "cell_type": "markdown",
   "id": "b32d705d",
   "metadata": {},
   "source": [
    "As this image is not a circle, it lacks information to render the sky correctly.\n",
    "We can still convert the image but some areas will be missing"
   ]
  },
  {
   "cell_type": "code",
   "execution_count": null,
   "id": "2596cc57",
   "metadata": {},
   "outputs": [],
   "source": [
    "imr360.size"
   ]
  },
  {
   "cell_type": "code",
   "execution_count": null,
   "id": "07492bd9",
   "metadata": {},
   "outputs": [],
   "source": []
  },
  {
   "cell_type": "code",
   "execution_count": null,
   "id": "266566ca",
   "metadata": {},
   "outputs": [],
   "source": []
  },
  {
   "cell_type": "markdown",
   "id": "f564047a",
   "metadata": {},
   "source": [
    "### Needs to correct the mapping function"
   ]
  },
  {
   "cell_type": "code",
   "execution_count": null,
   "id": "627dba66",
   "metadata": {},
   "outputs": [],
   "source": [
    "factor = np.sqrt(2)\n",
    "factor\n",
    "\n",
    "imr_arr = np.asarray(imr360)\n",
    "dest_y_size = int(np.round(factor * imr360.size[0]/2))\n",
    "dest_x_size = dest_y_size * 4\n",
    "dest_x_size, dest_y_size\n",
    "\n",
    "pixel_angle = np.pi * 2 / dest_x_size\n",
    "pixel_angle\n",
    "\n",
    "origin = 480 / 2\n",
    "origin_col_size = 480 / 2\n",
    "dest_center_row = (dest_y_size -1) / 2\n",
    "# we are using factor 0 because the image lacks the necessary data!\n",
    "origin_limit_factor = 1 #/ (2 * np.sin(np.pi/4))\n",
    "\n",
    "\n",
    "@njit(parallel=True)\n",
    "def adjust_rows_first():\n",
    "    dest_arr = np.zeros((dest_y_size, dest_x_size, 3), 'uint8')\n",
    "        \n",
    "    for row in prange(dest_y_size):\n",
    "        \n",
    "        row_distance = dest_center_row - row\n",
    "        relative_row_distance = row_distance / dest_center_row\n",
    "        dest_angle_y = np.arctan(relative_row_distance)\n",
    "        origin_angle_y = -1 * (dest_angle_y - np.pi/4)\n",
    "        origin_distance_y = 2 * np.sin(origin_angle_y / 2) * origin_limit_factor * (origin_col_size-1)\n",
    "        \n",
    "        for column in prange(dest_x_size):\n",
    "\n",
    "            angle_x = (pixel_angle * column) + np.pi\n",
    "\n",
    "            angle_factor_x = np.cos(angle_x)\n",
    "            angle_factor_y = np.sin(angle_x)\n",
    "            origin_x = int(np.round(origin + angle_factor_x * origin_distance_y))\n",
    "            origin_y = int(np.round(origin - angle_factor_y * origin_distance_y))\n",
    "\n",
    "            if 0 <= origin_x < 480 and 0 <= origin_y < 480:\n",
    "                dest_arr[row, column, :] = imr_arr[origin_y, origin_x, :]\n",
    "\n",
    "    return dest_arr\n",
    "\n",
    "imr_plane = Image.fromarray(adjust_rows_first())"
   ]
  },
  {
   "cell_type": "code",
   "execution_count": null,
   "id": "3bb236b4",
   "metadata": {},
   "outputs": [],
   "source": [
    "imr_plane.rotate(180)"
   ]
  },
  {
   "cell_type": "code",
   "execution_count": null,
   "id": "89881c67",
   "metadata": {},
   "outputs": [],
   "source": [
    "imr_plane.rotate(180).save('ilstrom.jpg')"
   ]
  },
  {
   "cell_type": "code",
   "execution_count": null,
   "id": "45183409",
   "metadata": {},
   "outputs": [],
   "source": []
  }
 ],
 "metadata": {
  "kernelspec": {
   "display_name": "Python 3 (ipykernel)",
   "language": "python",
   "name": "python3"
  },
  "language_info": {
   "codemirror_mode": {
    "name": "ipython",
    "version": 3
   },
   "file_extension": ".py",
   "mimetype": "text/x-python",
   "name": "python",
   "nbconvert_exporter": "python",
   "pygments_lexer": "ipython3",
   "version": "3.8.10"
  }
 },
 "nbformat": 4,
 "nbformat_minor": 5
}
